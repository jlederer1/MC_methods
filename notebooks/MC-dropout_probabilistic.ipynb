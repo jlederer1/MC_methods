{
 "cells": [
  {
   "cell_type": "code",
   "execution_count": 37,
   "metadata": {},
   "outputs": [
    {
     "name": "stdout",
     "output_type": "stream",
     "text": [
      "Modules imported successfully.\n"
     ]
    }
   ],
   "source": [
    "import importlib\n",
    "from dkst.utils import KST_utils, DKST_utils, set_operations, relations\n",
    "from dkst import dkst_datasets, models\n",
    "\n",
    "# Import everything from the modules\n",
    "from dkst.utils.KST_utils import *\n",
    "from dkst.utils.DKST_utils import *\n",
    "from dkst.utils.set_operations import *\n",
    "from dkst.utils.relations import *\n",
    "from dkst.dkst_datasets import *\n",
    "from dkst.models import *\n",
    "\n",
    "from torch.utils.data import DataLoader\n",
    "print(\"Modules imported successfully.\")\n",
    "\n",
    "config_path = os.path.abspath(\"../data/config/config_data_06.json\")\n",
    "model_path = os.path.abspath(\"../data/models/model_Q6_01.pth\")"
   ]
  },
  {
   "cell_type": "code",
   "execution_count": null,
   "metadata": {},
   "outputs": [],
   "source": [
    "#tmp_path = os.path.abspath(\"../data/datasets/dataset_train_Q6_50.pth\")\n",
    "#D_train = torch.load(tmp_path, weights_only=False)   # Trainingset was too big to upload to GitHub... \n",
    "tmp_path = os.path.abspath(\"../data/datasets/dataset_test_Q6_50.pth\")\n",
    "D_test = torch.load(tmp_path, weights_only=False)\n",
    "    "
   ]
  },
  {
   "cell_type": "code",
   "execution_count": 47,
   "metadata": {},
   "outputs": [
    {
     "name": "stdout",
     "output_type": "stream",
     "text": [
      "\n",
      "Batch size:  4\n",
      "Shape conditionals:        torch.Size([4, 64])\n",
      "Shape input sequence:      torch.Size([4, 64])\n",
      "Shape target sequence:     torch.Size([4, 64])\n",
      "Shape input observations:  torch.Size([4, 64])\n",
      "Conditionals histogram:\n"
     ]
    },
    {
     "data": {
      "image/png": "[encoded data removed]",
      "text/plain": [
       "<Figure size 640x480 with 1 Axes>"
      ]
     },
     "metadata": {},
     "output_type": "display_data"
    },
    {
     "name": "stdout",
     "output_type": "stream",
     "text": [
      "Input observations histogram:\n"
     ]
    },
    {
     "data": {
      "image/png": "[encoded data removed]",
      "text/plain": [
       "<Figure size 640x480 with 1 Axes>"
      ]
     },
     "metadata": {},
     "output_type": "display_data"
    },
    {
     "name": "stdout",
     "output_type": "stream",
     "text": [
      "\n",
      "Output shape:  torch.Size([64, 4, 65])\n",
      "Embedding shape:  torch.Size([4, 1024])\n",
      "\n"
     ]
    }
   ],
   "source": [
    "# model\n",
    "model = CustomDecoderModel(config_path)\n",
    "checkpoint = torch.load(model_path)\n",
    "model.load_state_dict(checkpoint['model_state_dict'])\n",
    "device = model.config[\"device\"]\n",
    "model = model.to(device)\n",
    "\n",
    "dataloader = DataLoader(D_test, batch_size=4, shuffle=True, collate_fn=collate_fn)\n",
    "device = \"mps\"\n",
    "# get one batch \n",
    "for i_batch, sample_batched in enumerate(dataloader):\n",
    "    print()\n",
    "    print(\"Batch size: \", len(sample_batched))\n",
    "    print(\"Shape conditionals:       \", sample_batched[0].shape)\n",
    "    print(\"Shape input sequence:     \", sample_batched[1].shape) \n",
    "    print(\"Shape target sequence:    \", sample_batched[2].shape) \n",
    "    print(\"Shape input observations: \", sample_batched[3].shape)\n",
    "\n",
    "    # Histogram to vizualize conditionals\n",
    "    conditionals = sample_batched[0].numpy()[0]\n",
    "    colors = ['green' if i in sample_batched[2][0] else 'red' for i in range(len(conditionals))]\n",
    "    colors[0] = 'green'\n",
    "    print(\"Conditionals histogram:\")\n",
    "    plt.bar(range(len(conditionals)), conditionals.flatten(), color=colors)\n",
    "    plt.show()\n",
    "\n",
    "    # Histogram to vizualize input observations\n",
    "    input_obs = sample_batched[3].numpy()[0]\n",
    "    print(\"Input observations histogram:\")\n",
    "    plt.bar(range(len(input_obs)), input_obs.flatten(), color=colors)\n",
    "    plt.show()\n",
    "    break\n",
    "\n",
    "for i_batch, sample_batched in enumerate(dataloader):\n",
    "    conditionals, input_seq, target_seq, input_obs = sample_batched\n",
    "    conditionals = conditionals.to(device)\n",
    "    input_seq = input_seq.to(device)\n",
    "    target_seq = target_seq.to(device)\n",
    "    input_obs = input_obs.to(device)\n",
    "    output, embedding, attention_weights = model.forward(conditionals, input_seq)\n",
    "    print()\n",
    "    print(\"Output shape: \", output.shape) \n",
    "    print(\"Embedding shape: \", embedding.shape)\n",
    "    print()\n",
    "    break\n",
    "    "
   ]
  },
  {
   "cell_type": "code",
   "execution_count": null,
   "metadata": {},
   "outputs": [
    {
     "name": "stdout",
     "output_type": "stream",
     "text": [
      "Target sequence:     [0, 4, 5, 6, 7, 8, 9, 10, 13, 14, 15, 16, 17, 20, 22, 25, 28, 29, 30, 32, 33, 34, 37, 39, 42, 44, 46, 47, 48, 53, 56, 57, 58, 59, 60, 61, 62, 63, 64]\n",
      "Generated sequence:  [0, 1, 2, 4, 5, 6, 7, 8, 9, 10, 13, 14, 15, 16, 17, 19, 20, 22, 23, 25, 28, 29, 30, 32, 33, 34, 37, 39, 40, 42, 44, 46, 47, 48, 49, 50, 53, 54, 56, 57, 58, 59, 60, 61, 62, 63, 64]\n",
      "MCDP sequence:       [0, 1, 2, 4, 5, 6, 7, 8, 9, 10, 13, 14, 15, 16, 17, 20, 22, 25, 28, 29, 30, 32, 33, 34, 37, 39, 42, 44, 46, 47, 48, 49, 53, 56, 57, 58, 59, 60, 61, 62, 63, 64]\n",
      "\n",
      "Target sequence:     [0, 1, 4, 6, 8, 9, 11, 12, 14, 16, 18, 19, 20, 21, 22, 24, 25, 27, 28, 29, 32, 33, 34, 35, 36, 42, 43, 46, 47, 50, 52, 53, 54, 55, 57, 59, 60, 63, 64]\n",
      "Generated sequence:  [0, 1, 2, 4, 6, 8, 9, 11, 12, 14, 16, 18, 19, 20, 21, 22, 24, 25, 27, 28, 29, 30, 32, 33, 34, 35, 36, 37, 38, 39, 42, 43, 46, 47, 50, 52, 53, 54, 55, 57, 59, 60, 63, 64]\n",
      "MCDP sequence:       [0, 1, 4, 6, 8, 9, 11, 12, 14, 16, 18, 19, 20, 21, 22, 24, 25, 27, 28, 29, 32, 33, 34, 35, 36, 37, 42, 43, 46, 47, 50, 52, 53, 54, 55, 57, 59, 60, 63, 64]\n",
      "\n",
      "Target sequence:     [0, 2, 6, 7, 8, 9, 12, 13, 14, 15, 17, 18, 22, 24, 25, 26, 29, 30, 33, 34, 36, 37, 39, 42, 45, 49, 50, 51, 53, 54, 57, 59, 61, 63, 64]\n",
      "Generated sequence:  [0, 1, 2, 3, 4, 6, 7, 8, 9, 12, 13, 14, 15, 17, 18, 22, 24, 25, 26, 27, 29, 30, 31, 33, 34, 36, 37, 39, 42, 45, 46, 47, 49, 50, 51, 53, 54, 57, 59, 61, 63, 64]\n",
      "MCDP sequence:       [0, 2, 6, 7, 8, 9, 12, 13, 14, 15, 17, 18, 22, 24, 25, 26, 29, 30, 33, 34, 36, 37, 39, 42, 45, 49, 50, 51, 53, 54, 57, 59, 61, 63, 64]\n",
      "\n",
      "Target sequence:     [0, 2, 3, 5, 8, 10, 12, 13, 16, 17, 18, 19, 20, 21, 24, 25, 28, 33, 34, 37, 38, 39, 42, 43, 44, 45, 46, 48, 50, 51, 52, 54, 62, 63, 64]\n",
      "Generated sequence:  [0, 1, 2, 3, 5, 8, 10, 12, 13, 16, 17, 18, 19, 20, 21, 22, 24, 25, 28, 29, 30, 33, 34, 37, 38, 39, 40, 42, 43, 44, 45, 46, 48, 50, 51, 52, 54, 55, 56, 58, 59, 62, 63, 64]\n",
      "MCDP sequence:       [0, 2, 3, 5, 8, 10, 12, 13, 16, 17, 18, 19, 20, 21, 24, 25, 28, 29, 33, 34, 37, 38, 39, 42, 43, 44, 45, 46, 48, 50, 51, 52, 54, 56, 62, 63, 64]\n",
      "\n",
      "Target sequence:     [0, 2, 3, 7, 9, 11, 12, 13, 14, 15, 16, 17, 20, 21, 23, 24, 30, 33, 35, 38, 39, 41, 42, 43, 44, 46, 47, 48, 51, 55, 56, 58, 60, 63, 64]\n",
      "Generated sequence:  [0, 1, 2, 3, 4, 7, 9, 11, 12, 13, 14, 15, 16, 17, 20, 21, 23, 24, 25, 26, 27, 28, 30, 31, 33, 35, 38, 39, 41, 42, 43, 44, 46, 47, 48, 49, 51, 52, 53, 54, 55, 56, 58, 60, 63, 64]\n",
      "MCDP sequence:       [0, 2, 3, 7, 9, 11, 12, 13, 14, 15, 16, 17, 20, 21, 23, 24, 30, 33, 35, 38, 39, 41, 42, 43, 44, 46, 47, 48, 51, 55, 56, 58, 60, 63, 64]\n",
      "\n",
      "Target sequence:     [0, 2, 3, 4, 7, 8, 17, 20, 21, 22, 23, 24, 26, 30, 31, 32, 33, 34, 38, 39, 41, 42, 43, 44, 46, 47, 48, 49, 50, 51, 54, 55, 56, 60, 63, 64]\n",
      "Generated sequence:  [0, 2, 3, 4, 5, 7, 8, 9, 10, 11, 12, 14, 15, 17, 20, 21, 22, 23, 24, 26, 27, 28, 30, 31, 32, 33, 34, 35, 38, 39, 41, 42, 43, 44, 46, 47, 48, 49, 50, 51, 52, 54, 55, 56, 60, 63, 64]\n",
      "MCDP sequence:       [0, 2, 3, 4, 7, 8, 9, 11, 12, 15, 17, 20, 21, 22, 23, 24, 26, 30, 31, 32, 33, 34, 38, 39, 41, 42, 43, 44, 46, 47, 48, 49, 50, 51, 54, 55, 56, 60, 63, 64]\n",
      "\n",
      "Target sequence:     [0, 1, 4, 6, 7, 8, 11, 12, 13, 18, 21, 22, 24, 25, 26, 27, 28, 29, 37, 38, 39, 46, 49, 50, 51, 53, 54, 55, 56, 58, 61, 63, 64]\n",
      "Generated sequence:  [0, 1, 2, 4, 6, 7, 8, 11, 12, 13, 14, 15, 18, 21, 22, 24, 25, 26, 27, 28, 29, 31, 32, 34, 37, 38, 39, 40, 41, 42, 46, 49, 50, 51, 53, 54, 55, 56, 58, 59, 61, 63, 64]\n",
      "MCDP sequence:       [0, 1, 4, 6, 7, 8, 11, 12, 13, 18, 21, 22, 24, 25, 26, 27, 28, 29, 31, 37, 38, 39, 41, 42, 46, 49, 50, 51, 53, 54, 55, 56, 58, 61, 63, 64]\n",
      "\n",
      "Target sequence:     [0, 1, 2, 3, 4, 5, 7, 8, 9, 11, 13, 17, 18, 20, 21, 23, 24, 25, 26, 27, 29, 30, 31, 32, 34, 38, 43, 44, 45, 48, 50, 51, 53, 55, 58, 59, 61, 63, 64]\n",
      "Generated sequence:  [0, 1, 2, 3, 4, 5, 7, 8, 9, 11, 13, 14, 15, 17, 18, 20, 21, 23, 24, 25, 26, 27, 29, 30, 31, 32, 34, 35, 36, 38, 40, 41, 43, 44, 45, 48, 50, 51, 53, 55, 56, 58, 59, 61, 63, 64]\n",
      "MCDP sequence:       [0, 1, 2, 3, 4, 5, 7, 8, 9, 11, 13, 17, 18, 20, 21, 23, 24, 25, 26, 27, 29, 30, 31, 32, 34, 37, 38, 43, 44, 45, 48, 50, 51, 53, 55, 58, 59, 61, 63, 64]\n",
      "\n",
      "Target sequence:     [0, 5, 7, 8, 11, 12, 16, 17, 18, 20, 21, 26, 27, 28, 29, 32, 33, 35, 37, 39, 40, 41, 45, 46, 47, 49, 52, 54, 55, 57, 58, 60, 62, 63, 64]\n",
      "Generated sequence:  [0, 1, 2, 3, 5, 7, 8, 11, 12, 13, 16, 17, 18, 20, 21, 22, 23, 24, 26, 27, 28, 29, 32, 33, 35, 37, 39, 40, 41, 45, 46, 47, 49, 52, 54, 55, 57, 58, 60, 62, 63, 64]\n",
      "MCDP sequence:       [0, 1, 2, 5, 7, 8, 11, 12, 16, 17, 18, 20, 21, 26, 27, 28, 29, 32, 33, 35, 37, 39, 40, 41, 45, 46, 47, 49, 52, 54, 55, 57, 58, 60, 62, 63, 64]\n",
      "\n",
      "Target sequence:     [0, 2, 3, 4, 5, 7, 11, 14, 17, 20, 22, 24, 25, 29, 30, 31, 32, 33, 34, 35, 40, 41, 42, 47, 50, 51, 52, 53, 54, 56, 58, 59, 60, 61, 63, 64]\n",
      "Generated sequence:  [0, 2, 3, 4, 5, 7, 8, 11, 14, 17, 20, 22, 24, 25, 29, 30, 31, 32, 33, 34, 35, 36, 37, 40, 41, 42, 43, 44, 47, 50, 51, 52, 53, 54, 56, 58, 59, 60, 61, 63, 64]\n",
      "MCDP sequence:       [0, 2, 3, 4, 5, 7, 11, 14, 17, 20, 22, 24, 25, 29, 30, 31, 32, 33, 34, 35, 40, 41, 42, 47, 50, 51, 52, 53, 54, 56, 58, 59, 60, 61, 63, 64]\n",
      "\n"
     ]
    }
   ],
   "source": [
    "for i in range(5):\n",
    "    dataloader = DataLoader(D_test, batch_size=1, shuffle=True, collate_fn=collate_fn)\n",
    "    for conditionals, input_seq, target_seq, input_obs in dataloader:\n",
    "        break  # We only need one sample\n",
    "    conditionals = conditionals.to(device)\n",
    "    input_seq = input_seq.to(device)\n",
    "    input_obs = input_obs.to(device)\n",
    "\n",
    "    seq, emb = generate_sequence(model, conditionals.to(device), device=device, data_embedding=None)\n",
    "    seq_MCDP, emb_MCDP = generate_sequence_MCDP(model, conditionals.to(device), device=device, data_embedding=None)\n",
    "    print(\"Target sequence:    \", [t for t in [0]+target_seq.tolist()[0] if t != model.vocab_size-1])\n",
    "    print(\"Generated sequence: \", seq)\n",
    "    print(\"MCDP sequence:      \", seq_MCDP)\n",
    "    print()"
   ]
  },
  {
   "cell_type": "code",
   "execution_count": 44,
   "metadata": {},
   "outputs": [
    {
     "name": "stdout",
     "output_type": "stream",
     "text": [
      "Performance test without MC dropout.\n"
     ]
    },
    {
     "name": "stderr",
     "output_type": "stream",
     "text": [
      "Testing performance with MCDP disabled...: 100%|██████████| 100/100 [00:57<00:00,  1.74it/s]\n"
     ]
    },
    {
     "name": "stdout",
     "output_type": "stream",
     "text": [
      "Accuracy:       0.0\n",
      "Mean distance:  7.62\n",
      "Std:            2.8593006137865253\n",
      "Performance test with MC dropout and 5 mcdp runs per sample.\n"
     ]
    },
    {
     "name": "stderr",
     "output_type": "stream",
     "text": [
      "Testing performance with MCDP enabled...: 100%|██████████| 100/100 [01:49<00:00,  1.09s/it]\n"
     ]
    },
    {
     "name": "stdout",
     "output_type": "stream",
     "text": [
      "Accuracy:       0.45\n",
      "Mean distance:  0.92\n",
      "Std:            1.1461239025515522\n",
      "\n",
      "Performance test with MC dropout and 10 mcdp runs per sample.\n"
     ]
    },
    {
     "name": "stderr",
     "output_type": "stream",
     "text": [
      "Testing performance with MCDP enabled...: 100%|██████████| 100/100 [03:00<00:00,  1.80s/it]\n"
     ]
    },
    {
     "name": "stdout",
     "output_type": "stream",
     "text": [
      "Accuracy:       0.63\n",
      "Mean distance:  0.62\n",
      "Std:            0.9031057523900509\n",
      "\n",
      "Performance test with MC dropout and 25 mcdp runs per sample.\n"
     ]
    },
    {
     "name": "stderr",
     "output_type": "stream",
     "text": [
      "Testing performance with MCDP enabled...: 100%|██████████| 100/100 [05:45<00:00,  3.46s/it]"
     ]
    },
    {
     "name": "stdout",
     "output_type": "stream",
     "text": [
      "Accuracy:       0.63\n",
      "Mean distance:  0.67\n",
      "Std:            1.1229870880824944\n",
      "\n"
     ]
    },
    {
     "name": "stderr",
     "output_type": "stream",
     "text": [
      "\n"
     ]
    }
   ],
   "source": [
    "print(\"Performance test without MC dropout.\")\n",
    "acc, mean, std = performance(model, dataloader, num_samples=100)\n",
    "print(\"Accuracy:      \", acc)\n",
    "print(\"Mean distance: \", mean)\n",
    "print(\"Std:           \", std)\n",
    "\n",
    "n_mc_samples = [5,10,25]\n",
    "for i in n_mc_samples:\n",
    "    print(f\"Performance test with MC dropout and {i} mcdp runs per sample.\")\n",
    "    acc, mean, std = performance(model, dataloader, n_mc_samples=i, num_samples=100)\n",
    "    print(\"Accuracy:      \", acc)\n",
    "    print(\"Mean distance: \", mean)\n",
    "    print(\"Std:           \", std)\n",
    "    print()"
   ]
  },
  {
   "cell_type": "markdown",
   "metadata": {},
   "source": [
    "# Fazit \n",
    "Through majority votes over multiple stochastic forward passes, the prediction accuracy on the probabilistic modelling task could be significantly enhanced."
   ]
  }
 ],
 "metadata": {
  "kernelspec": {
   "display_name": "cidl_mc_env",
   "language": "python",
   "name": "python3"
  },
  "language_info": {
   "codemirror_mode": {
    "name": "ipython",
    "version": 3
   },
   "file_extension": ".py",
   "mimetype": "text/x-python",
   "name": "python",
   "nbconvert_exporter": "python",
   "pygments_lexer": "ipython3",
   "version": "3.9.21"
  }
 },
 "nbformat": 4,
 "nbformat_minor": 2
}
