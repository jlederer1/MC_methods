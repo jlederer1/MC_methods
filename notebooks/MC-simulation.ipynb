{
 "cells": [
  {
   "cell_type": "markdown",
   "metadata": {},
   "source": [
    "# Simpel Monte Carlo Simulations\n",
    "\n",
    "This code is mainly taken from https://github.com/Suji04/NormalizedNerd/blob/master/Miscellaneous/monte_carlo.py. It demonstates how simple randomized simulations can yield insights into hard combinatorial problems. \n",
    "\n",
    "Here we repeatedly shuffel a simulated deck of cards to approximate probabilities, that specific cared patterns will occure.\n",
    "\n",
    "Below you can check the probabilities of encountering a specific set of cards in your hand.\n"
   ]
  },
  {
   "cell_type": "code",
   "execution_count": 1,
   "metadata": {},
   "outputs": [
    {
     "name": "stdout",
     "output_type": "stream",
     "text": [
      "Size of the card deck:  32\n"
     ]
    }
   ],
   "source": [
    "import random\n",
    "import copy\n",
    "\n",
    "org_deck = [\n",
    "'AS', '7S', '8S', '9S', '10S', 'JS', 'QS', 'KS', # S = Spades\n",
    "'AD', '7D', '8D', '9D', '10D', 'JD', 'QD', 'KD', # D = Diamonds\n",
    "'AC', '7C', '8C', '9C', '10C', 'JC', 'QC', 'KC', # C = Clubs\n",
    "'AH', '7H', '8H', '9H', '10H', 'JH', 'QH', 'KH', # H = Hearts\n",
    "]\n",
    "# A = Ace, J = Jack, Q = Queen, K = King\n",
    "print(\"Size of the card deck: \", len(org_deck))\n"
   ]
  },
  {
   "cell_type": "code",
   "execution_count": 2,
   "metadata": {},
   "outputs": [
    {
     "name": "stdout",
     "output_type": "stream",
     "text": [
      "MC estimate for 10 iterations:\n",
      "0.4\n",
      "MC estimate for 100 iterations:\n",
      "0.36\n",
      "MC estimate for 1000 iterations:\n",
      "0.349\n",
      "MC estimate for 10000 iterations:\n",
      "0.343\n",
      "MC estimate for 100000 iterations:\n",
      "0.34186\n",
      "MC estimate for 1000000 iterations:\n",
      "0.339547\n"
     ]
    }
   ],
   "source": [
    "\n",
    "''' Q1. What is the probability that at least 2 Kings will appear \n",
    "    next to each other in the shuffled deck? '''\n",
    "\n",
    "def KingKing(deck):\n",
    "    # Check for two consecutive Kings\n",
    "    for i in range(len(deck)-1):\n",
    "        if deck[i][0] == 'K' and deck[i+1][0] == 'K':\n",
    "            return True\n",
    "\n",
    "def MonteCarlo1(n):\n",
    "    # Shuffel and analyse deck n times\n",
    "    res = 0\n",
    "    for _ in range(n):\n",
    "        deck = copy.deepcopy(org_deck)\n",
    "        random.shuffle(deck)\n",
    "        if KingKing(deck): res += 1\n",
    "    print(res/n)\n",
    "\n",
    "# Monte Carlo simulation for different number of iterations for increasing accuracy\n",
    "for i in range(1, 7):\n",
    "    print(f\"MC estimate for {str(10**i)} iterations:\")\n",
    "    MonteCarlo1(10**i)\n"
   ]
  },
  {
   "cell_type": "code",
   "execution_count": 5,
   "metadata": {},
   "outputs": [
    {
     "name": "stdout",
     "output_type": "stream",
     "text": [
      "MC estimate for 10 iterations:\n",
      "1.0\n",
      "MC estimate for 100 iterations:\n",
      "0.92\n",
      "MC estimate for 1000 iterations:\n",
      "0.899\n",
      "MC estimate for 10000 iterations:\n",
      "0.896\n",
      "MC estimate for 100000 iterations:\n",
      "0.89352\n",
      "MC estimate for 1000000 iterations:\n",
      "0.89349\n"
     ]
    }
   ],
   "source": [
    "\n",
    "''' Q2. What is the probability that at least one King, Queen or Joker\n",
    "    will be next to each other or one card away? '''\n",
    "\n",
    "def KingQueen(deck):\n",
    "    n = len(deck)\n",
    "    for i in range(n-1):\n",
    "        # Check for consecutive cards of type King or Queen\n",
    "        if deck[i][0] + deck[i+1][0] in ['KQ', 'QK']:\n",
    "            return True\n",
    "        # Check pairs of King/Queen separated by one card\n",
    "        if i!=n-2:\n",
    "            if deck[i][0] + deck[i+2][0] in ['KQ', 'QK']:\n",
    "                return True\n",
    "\n",
    "def MonteCarlo2(n):\n",
    "    # Shuffel and analyse deck n times\n",
    "    res = 0\n",
    "    for _ in range(n):\n",
    "        deck = copy.deepcopy(org_deck)\n",
    "        random.shuffle(deck)\n",
    "        if KingQueen(deck): res += 1\n",
    "    print(res/n)\n",
    "\n",
    "# Monte Carlo simulation for different number of iterations for increasing accuracy\n",
    "for i in range(1, 7):\n",
    "    print(f\"MC estimate for {str(10**i)} iterations:\")\n",
    "    MonteCarlo2(10**i)\n"
   ]
  },
  {
   "cell_type": "code",
   "execution_count": 6,
   "metadata": {},
   "outputs": [
    {
     "name": "stdout",
     "output_type": "stream",
     "text": [
      "Monte Carlo Simulation:\n",
      "Computes the probability that your hand (dealt from a 32-card deck)\n",
      "contains a specified set of card patterns.\n",
      "You can use 'X' as a wildcard. For example, 'AX' means any Ace, '10X' means any 10 regardless of suit.\n",
      "\n",
      "\n",
      "Probability that your hand of 5 cards contains ['KX', 'KX']: 10.59%\n"
     ]
    }
   ],
   "source": [
    "# Monte Carlo Simulation for your hand with Wildcard Matching\n",
    "\n",
    "def card_matches(card, pattern):\n",
    "    \"\"\"\n",
    "    Returns True if the given card string matches the pattern.\n",
    "    The pattern should be the same length as the card string.\n",
    "    'X' in the pattern acts as a wildcard that can match any character.\n",
    "    \n",
    "    Example:\n",
    "        card_matches(\"AS\", \"AX\") returns True (matches any Ace)\n",
    "    \"\"\"\n",
    "    if len(card) != len(pattern):\n",
    "        return False\n",
    "    return all(p == 'X' or c == p for c, p in zip(card, pattern))\n",
    "\n",
    "def hand_contains_patterns(hand, patterns):\n",
    "    \"\"\"\n",
    "    Checks whether the hand contains all the specified patterns.\n",
    "    Each pattern must be matched by a distinct card in the hand.\n",
    "    \n",
    "    :param hand: The dealt hand.\n",
    "    :type hand: list of str\n",
    "    :param patterns: List of card patterns to look for, e.g., [\"AX\", \"AX\", \"AX\"] for any three Aces.\n",
    "    :type patterns: list of str\n",
    "    :return: True if for every pattern there is a distinct card in the hand that matches.\n",
    "    :rtype: bool\n",
    "    \"\"\"\n",
    "    remaining_cards = hand.copy()\n",
    "    for pattern in patterns:\n",
    "        match_found = False\n",
    "        for card in remaining_cards:\n",
    "            if card_matches(card, pattern):\n",
    "                match_found = True\n",
    "                remaining_cards.remove(card)  # Remove matched card to avoid double-counting\n",
    "                break\n",
    "        if not match_found:\n",
    "            return False\n",
    "    return True\n",
    "\n",
    "def simulate_user_hand(iterations, hand_size, desired_patterns):\n",
    "    \"\"\"\n",
    "    Simulates dealing a hand from the deck over many iterations and computes the probability \n",
    "    that the hand contains all of the desired card patterns.\n",
    "    \n",
    "    :param iterations: Number of simulation iterations.\n",
    "    :type iterations: int\n",
    "    :param hand_size: Number of cards in the hand.\n",
    "    :type hand_size: int\n",
    "    :param desired_patterns: List of card patterns to look for. Use 'X' as a wildcard (e.g., 'AX' for any Ace).\n",
    "    :type desired_patterns: list of str\n",
    "    :return: The probability (in percent) that the dealt hand contains all desired card patterns.\n",
    "    :rtype: float\n",
    "    \"\"\"\n",
    "    count = 0\n",
    "    for _ in range(iterations):\n",
    "        deck = copy.deepcopy(org_deck)  # org_deck is defined in a previous cell\n",
    "        random.shuffle(deck)\n",
    "        hand = deck[:hand_size]\n",
    "        if hand_contains_patterns(hand, desired_patterns):\n",
    "            count += 1\n",
    "    probability = (count / iterations) * 100\n",
    "    return probability\n",
    "\n",
    "# Inform user about the simulation:\n",
    "print(\"Monte Carlo Simulation:\")\n",
    "print(\"Computes the probability that your hand (dealt from a 32-card deck)\")\n",
    "print(\"contains a specified set of card patterns.\")\n",
    "print(\"You can use 'X' as a wildcard. For example, 'AX' means any Ace, '10X' means any 10 regardless of suit.\\n\")\n",
    "\n",
    "# Ask user for necessary inputs\n",
    "hand_size = int(input(\"Enter the number of cards in a hand: \"))\n",
    "user_input = input(\"Enter the card patterns you want to check for (separate patterns by spaces, e.g., 'AX AX AX' for any three Aces): \")\n",
    "desired_patterns = user_input.strip().split()\n",
    "iterations = int(input(\"Enter the number of Monte Carlo iterations (e.g., 100000): \"))\n",
    "\n",
    "# Run the simulation\n",
    "probability = simulate_user_hand(iterations, hand_size, desired_patterns)\n",
    "print(f\"\\nProbability that your hand of {hand_size} cards contains {desired_patterns}: {probability:.2f}%\")"
   ]
  }
 ],
 "metadata": {
  "kernelspec": {
   "display_name": "cidl_mc_env",
   "language": "python",
   "name": "python3"
  },
  "language_info": {
   "codemirror_mode": {
    "name": "ipython",
    "version": 3
   },
   "file_extension": ".py",
   "mimetype": "text/x-python",
   "name": "python",
   "nbconvert_exporter": "python",
   "pygments_lexer": "ipython3",
   "version": "3.9.21"
  }
 },
 "nbformat": 4,
 "nbformat_minor": 2
}
