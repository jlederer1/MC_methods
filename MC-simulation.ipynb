{
 "cells": [
  {
   "cell_type": "markdown",
   "metadata": {},
   "source": [
    "This code is mainly taken from https://github.com/Suji04/NormalizedNerd/blob/master/Miscellaneous/monte_carlo.py"
   ]
  },
  {
   "cell_type": "code",
   "execution_count": 1,
   "metadata": {},
   "outputs": [],
   "source": [
    "import numpy as np\n",
    "import random\n",
    "import copy\n",
    "\n",
    "org_deck = [\n",
    "'AS', '7S', '8S', '9S', '10S', 'JS', 'QS', 'KS',\n",
    "'AD', '7D', '8D', '9D', '10D', 'JD', 'QD', 'KD',\n",
    "'AC', '7C', '8C', '9C', '10C', 'JC', 'QC', 'KC',\n",
    "'AH', '7H', '8H', '9H', '10H', 'JH', 'QH', 'KH',\n",
    "]"
   ]
  },
  {
   "cell_type": "code",
   "execution_count": 7,
   "metadata": {},
   "outputs": [
    {
     "name": "stdout",
     "output_type": "stream",
     "text": [
      "MC estimate for 10 iterations:\n",
      "40.0\n",
      "MC estimate for 100 iterations:\n",
      "45.0\n",
      "MC estimate for 1000 iterations:\n",
      "35.5\n",
      "MC estimate for 10000 iterations:\n",
      "33.59\n",
      "MC estimate for 100000 iterations:\n",
      "34.104\n",
      "MC estimate for 1000000 iterations:\n",
      "33.891\n"
     ]
    }
   ],
   "source": [
    "\n",
    "''' Q1. What is the probability that at least 2 Kings will appear \n",
    "    next to each other in the shuffled deck? '''\n",
    "\n",
    "def KingKing(deck):\n",
    "    for i in range(len(deck)-1):\n",
    "        if deck[i][0] == 'K' and deck[i+1][0] == 'K':\n",
    "            return True\n",
    "\n",
    "def MonteCarlo1(n):\n",
    "    res = 0\n",
    "    for _ in range(n):\n",
    "        deck = copy.deepcopy(org_deck)\n",
    "        random.shuffle(deck)\n",
    "        if KingKing(deck): res += 1\n",
    "    print(res*100/n)\n",
    "\n",
    "for i in range(1, 7):\n",
    "    print(f\"MC estimate for {str(10**i)} iterations:\")\n",
    "    MonteCarlo1(10**i)\n"
   ]
  },
  {
   "cell_type": "code",
   "execution_count": 7,
   "metadata": {},
   "outputs": [
    {
     "name": "stdout",
     "output_type": "stream",
     "text": [
      "90.0\n",
      "87.0\n",
      "88.4\n",
      "89.5\n",
      "89.207\n",
      "89.3672\n"
     ]
    }
   ],
   "source": [
    "\n",
    "''' Q2. What is the probability that at least one King and one Queen\n",
    "    will be next to each other or one card away? '''\n",
    "\n",
    "def KingQueen(deck):\n",
    "    n = len(deck)\n",
    "    for i in range(n-1):\n",
    "        if deck[i][0] + deck[i+1][0] in ['KQ', 'QK']:\n",
    "            return True\n",
    "        if i!=n-2:\n",
    "            if deck[i][0] + deck[i+2][0] in ['KQ', 'QK']:\n",
    "                return True\n",
    "\n",
    "def MonteCarlo2(n):\n",
    "    res = 0\n",
    "    for _ in range(n):\n",
    "        deck = copy.deepcopy(org_deck)\n",
    "        random.shuffle(deck)\n",
    "        if KingQueen(deck): res += 1\n",
    "    print(res*100/n)\n",
    "\n",
    "for i in range(1, 7):\n",
    "    print(f\"MC estimate for {str(10**i)} iterations:\")\n",
    "    MonteCarlo1(10**i)\n"
   ]
  },
  {
   "cell_type": "code",
   "execution_count": 8,
   "metadata": {},
   "outputs": [
    {
     "name": "stdout",
     "output_type": "stream",
     "text": [
      "Probability for patterns ['KQ', 'QK']: 80.00%\n",
      "Probability for patterns ['KQ', 'QK']: 89.00%\n",
      "Probability for patterns ['KQ', 'QK']: 88.60%\n",
      "Probability for patterns ['KQ', 'QK']: 89.30%\n",
      "Probability for patterns ['KQ', 'QK']: 89.38%\n",
      "Probability for patterns ['KQ', 'QK']: 89.32%\n",
      "Probability for patterns ['78', '87', '89', '98', '79', '97']: 100.00%\n",
      "Probability for patterns ['78', '87', '89', '98', '79', '97']: 100.00%\n",
      "Probability for patterns ['78', '87', '89', '98', '79', '97']: 99.80%\n",
      "Probability for patterns ['78', '87', '89', '98', '79', '97']: 99.98%\n",
      "Probability for patterns ['78', '87', '89', '98', '79', '97']: 99.96%\n",
      "Probability for patterns ['78', '87', '89', '98', '79', '97']: 99.96%\n"
     ]
    }
   ],
   "source": [
    "# Function to check for patterns in the shuffled deck\n",
    "def CheckPatterns(deck, patterns):\n",
    "    n = len(deck)\n",
    "    for i in range(n - 1):\n",
    "        # Consecutive patterns\n",
    "        if deck[i][0] + deck[i + 1][0] in patterns:\n",
    "            return True\n",
    "        # With one card in between\n",
    "        if i < n - 2:\n",
    "            if deck[i][0] + deck[i + 2][0] in patterns:\n",
    "                return True\n",
    "    return False\n",
    "\n",
    "# Generalized MC simulation\n",
    "def MonteCarloGeneral(n, patterns):\n",
    "    res = 0\n",
    "    for _ in range(n):\n",
    "        deck = copy.deepcopy(org_deck)\n",
    "        random.shuffle(deck)\n",
    "        if CheckPatterns(deck, patterns):\n",
    "            res += 1\n",
    "    probability = res * 100 / n\n",
    "    print(f\"Probability for patterns {patterns}: {probability:.2f}%\")\n",
    "\n",
    "# Test \n",
    "for i in range(1, 7):\n",
    "    MonteCarloGeneral(10**i, [\"KQ\", \"QK\"])  # King-Queen patterns\n",
    "for i in range(1, 7):\n",
    "    MonteCarloGeneral(10**i, [\"78\", \"87\", \"89\", \"98\", \"79\", \"97\"])  # \"7-8\" patterns"
   ]
  }
 ],
 "metadata": {
  "kernelspec": {
   "display_name": "MC-env",
   "language": "python",
   "name": "python3"
  },
  "language_info": {
   "codemirror_mode": {
    "name": "ipython",
    "version": 3
   },
   "file_extension": ".py",
   "mimetype": "text/x-python",
   "name": "python",
   "nbconvert_exporter": "python",
   "pygments_lexer": "ipython3",
   "version": "3.9.6"
  }
 },
 "nbformat": 4,
 "nbformat_minor": 2
}
